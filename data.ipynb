{
 "cells": [
  {
   "cell_type": "code",
   "execution_count": 1,
   "metadata": {},
   "outputs": [],
   "source": [
    "import os\n",
    "# from PIL import Image\n",
    "import pandas as pd\n",
    "import numpy as np\n",
    "import torch"
   ]
  },
  {
   "cell_type": "code",
   "execution_count": 2,
   "metadata": {},
   "outputs": [],
   "source": [
    "import cv2 # conda install -c menpo opencv3\n",
    "#sudo apt update\n",
    "#sudo apt install python3-opencv"
   ]
  },
  {
   "cell_type": "code",
   "execution_count": 5,
   "metadata": {},
   "outputs": [
    {
     "name": "stdout",
     "output_type": "stream",
     "text": [
      "Collecting opencv-python\n",
      "\u001b[?25l  Downloading https://files.pythonhosted.org/packages/44/35/6db0fa2e644922533ddc2a3c41d1a86dabefce89d9db85ec31dcc69dc2e3/opencv_python-4.1.1.26-cp37-cp37m-manylinux1_x86_64.whl (28.7MB)\n",
      "\u001b[K     |████████████████████████████████| 28.7MB 5.1MB/s eta 0:00:012\n",
      "\u001b[?25hRequirement already satisfied: numpy>=1.14.5 in /home/andreybocharnikov/anaconda3/lib/python3.7/site-packages (from opencv-python) (1.17.2)\n",
      "Installing collected packages: opencv-python\n",
      "Successfully installed opencv-python-4.1.1.26\n"
     ]
    }
   ],
   "source": [
    "!pip install opencv-python"
   ]
  },
  {
   "cell_type": "code",
   "execution_count": 15,
   "metadata": {
    "scrolled": true
   },
   "outputs": [
    {
     "name": "stdout",
     "output_type": "stream",
     "text": [
      "Collecting torch\n",
      "\u001b[?25l  Downloading https://files.pythonhosted.org/packages/b4/0b/9d33aef363b6728ad937643d98be713c6c25d50ce338678ad57cee6e6fd5/torch-1.3.0-cp37-cp37m-manylinux1_x86_64.whl (773.1MB)\n",
      "\u001b[K     |████████████████████████████████| 773.1MB 74kB/s  eta 0:00:012  |                                | 522kB 303kB/s eta 0:42:29     |█▏                              | 27.5MB 4.5MB/s eta 0:02:45     |█▊                              | 42.0MB 7.0MB/s eta 0:01:44     |█▊                              | 42.9MB 318kB/s eta 0:38:17     |██▊                             | 66.4MB 4.6MB/s eta 0:02:35     |███                             | 75.0MB 8.4MB/s eta 0:01:23     |███▏                            | 76.0MB 628kB/s eta 0:18:29     |███▊                            | 90.1MB 2.7MB/s eta 0:04:15     |███▊                            | 90.9MB 2.7MB/s eta 0:04:15     |████▊                           | 114.8MB 3.9MB/s eta 0:02:48     |█████                           | 122.5MB 1.9MB/s eta 0:05:48     |█████▏                          | 125.8MB 8.5MB/s eta 0:01:17     |█████▊                          | 137.3MB 9.0MB/s eta 0:01:11     |████████                        | 195.1MB 9.3MB/s eta 0:01:03     |████████▋                       | 207.7MB 6.5MB/s eta 0:01:27     |█████████▎                      | 223.0MB 4.5MB/s eta 0:02:03     |██████████▉                     | 262.1MB 8.2MB/s eta 0:01:03     |██████████████▏                 | 342.4MB 8.4MB/s eta 0:00:52     |███████████████▎                | 369.3MB 8.4MB/s eta 0:00:49     |███████████████▎                | 370.2MB 8.4MB/s eta 0:00:49     |███████████████▉                | 382.1MB 7.2MB/s eta 0:00:55     |███████████████▉                | 383.0MB 7.2MB/s eta 0:00:54     |████████████████▏               | 390.6MB 3.9MB/s eta 0:01:39     |████████████████▋               | 402.3MB 2.8MB/s eta 0:02:11��██████▊              | 428.1MB 7.3MB/s eta 0:00:47     |██████████████████▌             | 447.3MB 257kB/s eta 0:21:04| 447.7MB 257kB/s eta 0:21:02    | 461.7MB 4.0MB/s eta 0:01:180MB/s eta 0:01:18[K     |███████████████████▊            | 475.3MB 1.2MB/s eta 0:04:12   |███████████████████▊            | 475.6MB 1.2MB/s eta 0:04:11�████████▋           | 498.0MB 9.1MB/s eta 0:00:31███████████████▍          | 515.4MB 21.3MB/s eta 0:00:13     |█████████████████████▌          | 518.2MB 21.3MB/s eta 0:00:12��█████████████████████▉         | 551.6MB 306kB/s eta 0:12:041MB 306kB/s eta 0:11:40��        | 564.1MB 10.0MB/s eta 0:00:21��        | 566.5MB 10.0MB/s eta 0:00:21     |███████████████████████▉        | 576.2MB 27.5MB/s eta 0:00:08██████████████        | 582.3MB 27.5MB/s eta 0:00:07██████▍       | 588.6MB 8.2MB/s eta 0:00:23██████▍       | 590.2MB 8.2MB/s eta 0:00:23██████▌       | 593.0MB 8.2MB/s eta 0:00:22��███▋       | 593.4MB 9.8MB/s eta 0:00:19  |████████████████████████▉       | 599.5MB 9.8MB/s eta 0:00:18███████       | 602.4MB 8.9MB/s eta 0:00:20��████       | 602.8MB 8.9MB/s eta 0:00:20��█████████████████▏      | 607.8MB 8.9MB/s eta 0:00:19608.1MB 8.9MB/s eta 0:00:19��█████████████████▎      | 610.6MB 7.6MB/s eta 0:00:22��█████████████████▍      | 612.9MB 7.6MB/s eta 0:00:22��█████████████████████▋      | 618.9MB 14.9MB/s eta 0:00:11███████████████████████▊      | 622.3MB 14.9MB/s eta 0:00:11████████████████████████      | 626.6MB 14.9MB/s eta 0:00:10████████████████████████      | 627.1MB 14.9MB/s eta 0:00:10████████████████████████      | 630.3MB 26.9MB/s eta 0:00:06�█████████████      | 630.6MB 26.9MB/s eta 0:00:06MB/s eta 0:00:06     |██████████████████████████▍     | 638.3MB 26.9MB/s eta 0:00:06MB/s eta 0:00:06�████     | 652.5MB 22.6MB/s eta 0:00:06�██▏    | 655.7MB 22.6MB/s eta 0:00:06 eta 0:00:06��███████████████████▏    | 657.0MB 22.6MB/s eta 0:00:06��███▎    | 658.4MB 22.6MB/s eta 0:00:06   | 667.4MB 8.0MB/s eta 0:00:14████████████████████▋    | 667.7MB 8.0MB/s eta 0:00:14��█████████▋   | 690.3MB 7.9MB/s eta 0:00:11��█████████▊   | 693.9MB 2.4MB/s eta 0:00:34��██████████   | 699.9MB 9.2MB/s eta 0:00:08�██████████   | 700.2MB 9.2MB/s eta 0:00:08��██████████   | 702.9MB 9.2MB/s eta 0:00:08     |█████████████████████████████▌  | 712.8MB 56.3MB/s eta 0:00:02��█████████████████████████▌  | 713.1MB 56.3MB/s eta 0:00:02��████████████████████▋  | 716.2MB 7.9MB/s eta 0:00:08��████████████████████▊  | 719.1MB 7.9MB/s eta 0:00:0719.4MB 7.9MB/s eta 0:00:07    |██████████████████████████████▎ | 730.7MB 7.7MB/s eta 0:00:06     |██████████████████████████████▎ | 732.4MB 7.7MB/s eta 0:00:06    |██████████████████████████████▎ | 732.7MB 7.7MB/s eta 0:00:06    |██████████████████████████████▍ | 735.2MB 4.1MB/s eta 0:00:10    |██████████████████████████████▌ | 737.9MB 4.1MB/s eta 0:00:09    |██████████████████████████████▋ | 739.7MB 4.1MB/s eta 0:00:09    |██████████████████████████████▉ | 743.7MB 7.6MB/s eta 0:00:04    |██████████████████████████████▉ | 746.3MB 7.6MB/s eta 0:00:04    |███████████████████████████████ | 749.4MB 7.6MB/s eta 0:00:04██████▏| 752.5MB 8.1MB/s eta 0:00:03██████▎| 754.8MB 8.1MB/s eta 0:00:03██████▋| 764.5MB 6.8MB/s eta 0:00:020.8MB 3.2MB/s eta 0:00:01\n",
      "\u001b[?25hRequirement already satisfied: numpy in /home/andreybocharnikov/anaconda3/lib/python3.7/site-packages (from torch) (1.17.2)\n",
      "Installing collected packages: torch\n",
      "Successfully installed torch-1.3.0\n"
     ]
    }
   ],
   "source": [
    "!pip install torch"
   ]
  },
  {
   "cell_type": "code",
   "execution_count": 37,
   "metadata": {},
   "outputs": [
    {
     "data": {
      "text/plain": [
       "'/home/andreybocharnikov/ML/sir'"
      ]
     },
     "execution_count": 37,
     "metadata": {},
     "output_type": "execute_result"
    }
   ],
   "source": [
    "os.getcwd()"
   ]
  },
  {
   "cell_type": "code",
   "execution_count": 68,
   "metadata": {},
   "outputs": [],
   "source": [
    "os.chdir('indoorCVPR_09')"
   ]
  },
  {
   "cell_type": "code",
   "execution_count": 4,
   "metadata": {},
   "outputs": [
    {
     "data": {
      "text/plain": [
       "'/home/andreybocharnikov/ML/sir'"
      ]
     },
     "execution_count": 4,
     "metadata": {},
     "output_type": "execute_result"
    }
   ],
   "source": [
    "os.getcwd()"
   ]
  },
  {
   "cell_type": "code",
   "execution_count": 9,
   "metadata": {},
   "outputs": [],
   "source": [
    "from torch.utils.data import DataLoader, Dataset"
   ]
  },
  {
   "cell_type": "code",
   "execution_count": 6,
   "metadata": {},
   "outputs": [],
   "source": [
    "id_ = 0\n",
    "os.mkdir(os.getcwd() + '/mapped_ids')\n",
    "for current_dir, dirs, files in os.walk(os.getcwd() + '/indoorCVPR_09'):\n",
    "    for file in files:\n",
    "        cur_name = str(id_) + '.jpg'\n",
    "        os.rename(current_dir + '/' + file, os.getcwd() + '/mapped_ids/' + cur_name)\n",
    "        id_ += 1"
   ]
  },
  {
   "cell_type": "code",
   "execution_count": 7,
   "metadata": {},
   "outputs": [
    {
     "data": {
      "text/plain": [
       "15620"
      ]
     },
     "execution_count": 7,
     "metadata": {},
     "output_type": "execute_result"
    }
   ],
   "source": [
    "id_"
   ]
  },
  {
   "cell_type": "code",
   "execution_count": 34,
   "metadata": {},
   "outputs": [],
   "source": [
    "class ImageDataSet(Dataset):\n",
    "    def __init__(self, class_):\n",
    "        self.path = ''\n",
    "        if class_ == 'indoors':\n",
    "            self.path = os.getcwd() + '/mapped_ids'\n",
    "        elif class_ == 'outdoors':\n",
    "            self.path = os.getcwd() + '/outdoor'\n",
    "        else:\n",
    "            raise Exception()\n",
    "        self.permutation = np.random.permutation(id_)\n",
    "    def __len__(self):\n",
    "        return id_\n",
    "    def __getitem__(self, id):\n",
    "        img = cv2.imread(self.path + '/' + str(self.permutation[id]) + '.jpg', cv2.COLOR_BGR2RGB)\n",
    "        print(self.path + '/' + str(self.permutation[id]) + '.jpg', img)\n",
    "        return torch.tensor(np.transpose(img, (2, 0, 1)))"
   ]
  },
  {
   "cell_type": "code",
   "execution_count": 35,
   "metadata": {},
   "outputs": [],
   "source": [
    "loader = ImageDataSet('indoors')"
   ]
  },
  {
   "cell_type": "code",
   "execution_count": 36,
   "metadata": {
    "collapsed": true
   },
   "outputs": [
    {
     "name": "stdout",
     "output_type": "stream",
     "text": [
      "/home/andreybocharnikov/ML/sir/mapped_ids/706.jpg [[[27 45 74]\n",
      "  [ 9 27 56]\n",
      "  [ 6 20 48]\n",
      "  ...\n",
      "  [ 4 17 31]\n",
      "  [ 4 18 30]\n",
      "  [12 26 38]]\n",
      "\n",
      " [[27 45 74]\n",
      "  [ 9 27 56]\n",
      "  [ 6 20 48]\n",
      "  ...\n",
      "  [ 5 18 32]\n",
      "  [ 5 19 31]\n",
      "  [12 26 38]]\n",
      "\n",
      " [[27 45 74]\n",
      "  [ 9 27 56]\n",
      "  [ 7 21 49]\n",
      "  ...\n",
      "  [ 5 18 32]\n",
      "  [ 4 18 30]\n",
      "  [11 25 37]]\n",
      "\n",
      " ...\n",
      "\n",
      " [[ 4 15 37]\n",
      "  [ 4 15 37]\n",
      "  [ 5 16 38]\n",
      "  ...\n",
      "  [10 22 46]\n",
      "  [22 36 65]\n",
      "  [27 42 74]]\n",
      "\n",
      " [[ 4 15 37]\n",
      "  [ 4 15 37]\n",
      "  [ 5 16 38]\n",
      "  ...\n",
      "  [12 24 48]\n",
      "  [23 37 66]\n",
      "  [25 43 74]]\n",
      "\n",
      " [[ 4 15 37]\n",
      "  [ 4 15 37]\n",
      "  [ 5 16 38]\n",
      "  ...\n",
      "  [13 25 49]\n",
      "  [21 37 66]\n",
      "  [25 43 74]]]\n"
     ]
    },
    {
     "data": {
      "text/plain": [
       "tensor([[[27,  9,  6,  ...,  4,  4, 12],\n",
       "         [27,  9,  6,  ...,  5,  5, 12],\n",
       "         [27,  9,  7,  ...,  5,  4, 11],\n",
       "         ...,\n",
       "         [ 4,  4,  5,  ..., 10, 22, 27],\n",
       "         [ 4,  4,  5,  ..., 12, 23, 25],\n",
       "         [ 4,  4,  5,  ..., 13, 21, 25]],\n",
       "\n",
       "        [[45, 27, 20,  ..., 17, 18, 26],\n",
       "         [45, 27, 20,  ..., 18, 19, 26],\n",
       "         [45, 27, 21,  ..., 18, 18, 25],\n",
       "         ...,\n",
       "         [15, 15, 16,  ..., 22, 36, 42],\n",
       "         [15, 15, 16,  ..., 24, 37, 43],\n",
       "         [15, 15, 16,  ..., 25, 37, 43]],\n",
       "\n",
       "        [[74, 56, 48,  ..., 31, 30, 38],\n",
       "         [74, 56, 48,  ..., 32, 31, 38],\n",
       "         [74, 56, 49,  ..., 32, 30, 37],\n",
       "         ...,\n",
       "         [37, 37, 38,  ..., 46, 65, 74],\n",
       "         [37, 37, 38,  ..., 48, 66, 74],\n",
       "         [37, 37, 38,  ..., 49, 66, 74]]], dtype=torch.uint8)"
      ]
     },
     "execution_count": 36,
     "metadata": {},
     "output_type": "execute_result"
    }
   ],
   "source": [
    "loader.__getitem__(4)"
   ]
  },
  {
   "cell_type": "code",
   "execution_count": 39,
   "metadata": {},
   "outputs": [
    {
     "data": {
      "text/plain": [
       "\"class ImageDataSet(Dataset):\\n    def __init__(self, class_):\\n        if class_ == 'indoors':\\n            path = os.getcwd() + '/indoorCVPR_09'\\n        elif class_ == 'outdoors':\\n            path = os.getcwd() + '/outdoor'\\n        else:\\n            raise Exception()\\n        #print(path)\\n        cnt = 0\\n        sum_ = 0\\n        #self.data = list()\\n        for current_dir, dirs, files in os.walk(path):\\n            # print(current_dir, file, type(current_dir), type(file))\\n            for file in files:\\n                img = cv2.imread(current_dir +  '/' + file, cv2.COLOR_BGR2RGB)\\n                # print(current_dir +  '/' + file)\\n                # print(len(img.shape), current_dir +  '/' + file)\\n                if img is None:\\n                    continue\\n                if (len(img.shape) == 3): #check RGB\\n                    # self.data.append(torch.Tensor(np.transpose(img, (2, 0, 1))))\\n                    sum_ += 1\\n                else:\\n                    cnt += 1\\n                    sum_ += 1\\n        print ('RGB is', 1 - cnt / sum_)\\n    def __len__(self):\\n        return len(self.dataSet.data)\\n    def __getitem__(self, id):\\n        return self.dataSet.data[id]\\n        \""
      ]
     },
     "execution_count": 39,
     "metadata": {},
     "output_type": "execute_result"
    }
   ],
   "source": [
    "'''class ImageDataSet(Dataset):\n",
    "    def __init__(self, class_):\n",
    "        if class_ == 'indoors':\n",
    "            path = os.getcwd() + '/indoorCVPR_09'\n",
    "        elif class_ == 'outdoors':\n",
    "            path = os.getcwd() + '/outdoor'\n",
    "        else:\n",
    "            raise Exception()\n",
    "        #print(path)\n",
    "        cnt = 0\n",
    "        sum_ = 0\n",
    "        #self.data = list()\n",
    "        for current_dir, dirs, files in os.walk(path):\n",
    "            # print(current_dir, file, type(current_dir), type(file))\n",
    "            for file in files:\n",
    "                img = cv2.imread(current_dir +  '/' + file, cv2.COLOR_BGR2RGB)\n",
    "                # print(current_dir +  '/' + file)\n",
    "                # print(len(img.shape), current_dir +  '/' + file)\n",
    "                if img is None:\n",
    "                    continue\n",
    "                if (len(img.shape) == 3): #check RGB\n",
    "                    # self.data.append(torch.Tensor(np.transpose(img, (2, 0, 1))))\n",
    "                    sum_ += 1\n",
    "                else:\n",
    "                    cnt += 1\n",
    "                    sum_ += 1\n",
    "        print ('RGB is', 1 - cnt / sum_)\n",
    "    def __len__(self):\n",
    "        return len(self.dataSet.data)\n",
    "    def __getitem__(self, id):\n",
    "        return self.dataSet.data[id]\n",
    "'''"
   ]
  },
  {
   "cell_type": "code",
   "execution_count": 3,
   "metadata": {},
   "outputs": [
    {
     "data": {
      "text/plain": [
       "\"class DataSetLoader():\\n    def __init__(self, class_, batch_size=0.05):\\n        self.dataSet = ''\\n        if class_ == 'indoors':\\n            self.dataSet = ImageDataSet(os.getcwd() + 'indoorCVPR_09')\\n        elif class_ == 'outdoors':\\n            self.dataSet = ImageDataSet(os.getcwd() + 'outdoor')\\n        else:\\n            raise Exception()\\n\""
      ]
     },
     "execution_count": 3,
     "metadata": {},
     "output_type": "execute_result"
    }
   ],
   "source": [
    "'''class DataSetLoader():\n",
    "    def __init__(self, class_, batch_size=0.05):\n",
    "        self.dataSet = ''\n",
    "        if class_ == 'indoors':\n",
    "            self.dataSet = ImageDataSet(os.getcwd() + 'indoorCVPR_09')\n",
    "        elif class_ == 'outdoors':\n",
    "            self.dataSet = ImageDataSet(os.getcwd() + 'outdoor')\n",
    "        else:\n",
    "            raise Exception()\n",
    "'''    \n",
    "# TODO batch_size float, int"
   ]
  },
  {
   "cell_type": "code",
   "execution_count": null,
   "metadata": {},
   "outputs": [],
   "source": []
  }
 ],
 "metadata": {
  "kernelspec": {
   "display_name": "Python 3",
   "language": "python",
   "name": "python3"
  },
  "language_info": {
   "codemirror_mode": {
    "name": "ipython",
    "version": 3
   },
   "file_extension": ".py",
   "mimetype": "text/x-python",
   "name": "python",
   "nbconvert_exporter": "python",
   "pygments_lexer": "ipython3",
   "version": "3.7.4"
  }
 },
 "nbformat": 4,
 "nbformat_minor": 2
}
